{
 "cells": [
  {
   "cell_type": "code",
   "execution_count": 1,
   "metadata": {
    "id": "wMXwIe4pbtro"
   },
   "outputs": [],
   "source": [
    "from nltk.chat.util import Chat, reflections\n",
    "\n",
    "#Pairs is a list of patterns and responses.\n",
    "pairs = [\n",
    "    [\n",
    "        r\"(.*)my name is (.*)\",\n",
    "        [\"Hello %2, How are you today ?\",]\n",
    "    ],\n",
    "    [\n",
    "        r\"(.*)help(.*) \",\n",
    "        [\"Yes! I can help you. I recognise keywords. I need your documents\",]\n",
    "    ],\n",
    "     [\n",
    "        r\"(.*) your name ?\",\n",
    "        [\"My name is Disease.Assistant.Bot, but you can just call me DIB and I'm a helpful chatbot.\",]\n",
    "    ],\n",
    "    [\n",
    "        r\"how are you (.*) ?\",\n",
    "        [\"I'm doing very well\", \"i am great !\",\"Troublesome day at work! but enjoying myself\",]\n",
    "    ],\n",
    "    [\n",
    "        r\"sorry (.*)\",\n",
    "        [\"Its alright\",\"Its OK, never mind that\",]\n",
    "    ],\n",
    "    [\n",
    "        r\"i'm (.*) (good|well|okay|ok)\",\n",
    "        [\"Nice to hear that\",\"Alright, great !\",]\n",
    "    ],\n",
    "    [\n",
    "        r\"(hi|hey|hello|hola|holla)(.*)\",\n",
    "        [\"Hello\", \"Hey there\",]\n",
    "    ],\n",
    "    [\n",
    "        r\"what (.*) want ?\",\n",
    "        [\"I want your reports and your user ID, so I can tell you the best course of action\",]\n",
    "        \n",
    "    ],\n",
    "    [\n",
    "        r\"(.*)created(.*)\",\n",
    "        [\"Harsh Agrawal created me using Python's NLTK library \",\"top secret ;)\",]\n",
    "    ],\n",
    "    [\n",
    "        r\"(.*)my location(.*)\",\n",
    "        [\"Situation at your location is good, you're safe! Provided you haven't visited a RED ZONE.\",]\n",
    "    ],\n",
    "    [\n",
    "        r\"(.*) good health\",\n",
    "        [\"Checking your details, I can see you have been keeping safe. You are a responsible citizen \",]\n",
    "    ],\n",
    "    [\n",
    "        r\"(.*) bad health\",\n",
    "        [\"Checking your details, I can see you have been in risk infested areas. Please book a medical appointment asap. \",]\n",
    "    ],\n",
    "    [\n",
    "        r\"(.*)doctors(.*)\",\n",
    "        [\"In your locality I can see three doctors who have slots open. - Dr.Sarbjeet Kohli, Dr.Pushkar Sathe and Dr.Harsh Agrawal\",]\n",
    "    ],\n",
    "    [\n",
    "        r\"book (.*) slot\",\n",
    "        [\"Please tell me your email ID\"]\n",
    "    ],\n",
    "    [\n",
    "        r\"(.*)@(.*)\",\n",
    "        [\"I will let my colleague,the disease assistant know that you have to book a slot. She will give you a link to fill a form and your appointment will be confirmed immediately.\"]\n",
    "    ],\n",
    "    [\n",
    "        r\"quit\",\n",
    "        [\"Bye for now. See you soon :) \",\"It was nice talking to you. See you soon :)\"]\n",
    "    ],\n",
    "    [\n",
    "        r\"thank you\",\n",
    "        ['You are welcome :)']\n",
    "    ],\n",
    "    [\n",
    "        r\"(.*)\",\n",
    "        ['That is nice to hear']\n",
    "    ],\n",
    "\n",
    "]\n",
    "\n",
    "#Create Chat Bot\n",
    "chat = Chat(pairs, reflections)"
   ]
  },
  {
   "cell_type": "code",
   "execution_count": 2,
   "metadata": {
    "colab": {
     "base_uri": "https://localhost:8080/"
    },
    "id": "G4BsvcLEe18n",
    "outputId": "0f0140a3-0e34-4ebc-e60e-bf54e00b5be0"
   },
   "outputs": [
    {
     "name": "stdout",
     "output_type": "stream",
     "text": [
      "Hi, I'm Jarvis and I like to chat\n",
      "Please type lowercase English language to start a conversation. Type quit to leave \n",
      ">hi\n",
      "Hey there\n",
      ">my Name is Harsh\n",
      "Hello harsh, How are you today ?\n",
      ">please help me\n",
      "Yes! I can help you. I recognise keywords. I need your documents\n",
      ">what all do you want?\n",
      "I want your reports and your user ID, so I can tell you the best course of action\n",
      ">Am I in good health?\n",
      "Checking your details, I can see you have been keeping safe. You are a responsible citizen \n",
      ">Am I in bad health?\n",
      "Checking your details, I can see you have been in risk infested areas. Please book a medical appointment asap. \n",
      ">Please tell me doctors near me?\n",
      "In your locality I can see three doctors who have slots open. - Dr.Sarbjeet Kohli, Dr.Pushkar Sathe and Dr.Harsh Agrawal\n",
      ">book a slot\n",
      "Please tell me your email ID\n",
      ">harsh@sies\n",
      "I will let my colleague,the disease assistant know that you have to book a slot. She will give you a link to fill a form and your appointment will be confirmed immediately.\n",
      ">quit\n",
      "Bye for now. See you soon :) \n"
     ]
    }
   ],
   "source": [
    "#default message at the start of chat\n",
    "print(\"Hi, I'm Jarvis and I like to chat\\nPlease type lowercase English language to start a conversation. Type quit to leave \")\n",
    "#Start conversation\n",
    "chat.converse()"
   ]
  },
  {
   "cell_type": "code",
   "execution_count": null,
   "metadata": {},
   "outputs": [],
   "source": []
  }
 ],
 "metadata": {
  "colab": {
   "collapsed_sections": [],
   "name": "ChatBot.ipynb",
   "provenance": []
  },
  "kernelspec": {
   "display_name": "Python 3",
   "language": "python",
   "name": "python3"
  },
  "language_info": {
   "codemirror_mode": {
    "name": "ipython",
    "version": 3
   },
   "file_extension": ".py",
   "mimetype": "text/x-python",
   "name": "python",
   "nbconvert_exporter": "python",
   "pygments_lexer": "ipython3",
   "version": "3.7.5"
  }
 },
 "nbformat": 4,
 "nbformat_minor": 1
}
